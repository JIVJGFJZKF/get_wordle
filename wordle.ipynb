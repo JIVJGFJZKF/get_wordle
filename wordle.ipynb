{
 "cells": [
  {
   "cell_type": "code",
   "execution_count": 1,
   "metadata": {},
   "outputs": [],
   "source": [
    "import pandas as pd\n",
    "import random, nltk, re, requests, wordfreq\n",
    "import numpy as np\n",
    "from itertools import permutations\n",
    "from IPython.display import display"
   ]
  },
  {
   "cell_type": "code",
   "execution_count": null,
   "metadata": {},
   "outputs": [],
   "source": []
  },
  {
   "cell_type": "markdown",
   "metadata": {},
   "source": [
    "# Search Functions"
   ]
  },
  {
   "cell_type": "code",
   "execution_count": 2,
   "metadata": {},
   "outputs": [],
   "source": [
    "def get_positive_permutations(val_str_pos):\n",
    "    vec_ors = []\n",
    "    for permutation_chars in list(permutations(val_str_pos)):\n",
    "        vec_strs = ['['+x+']+[a-z]*' for x in list(permutation_chars)]\n",
    "        val_strs = ''.join(vec_strs)\n",
    "        vec_ors.append(val_strs)\n",
    "    return('|'.join(vec_ors))"
   ]
  },
  {
   "cell_type": "code",
   "execution_count": 3,
   "metadata": {},
   "outputs": [],
   "source": [
    "def get_positive_pattern(vec_pattern_desc):\n",
    "    vec_pattern = []\n",
    "    if(len(vec_pattern_desc)!=5):\n",
    "        print('WARNING: The pattern was not a vector length of 5...')\n",
    "        vec_pattern_desc = ['*']*5\n",
    "    for i in vec_pattern_desc:\n",
    "        tmp_i = i.strip()\n",
    "        if(tmp_i==''):\n",
    "            vec_pattern.append('[a-z]')\n",
    "        else:\n",
    "            vec_pattern.append(tmp_i)\n",
    "    return(''.join(vec_pattern))"
   ]
  },
  {
   "cell_type": "code",
   "execution_count": 4,
   "metadata": {},
   "outputs": [],
   "source": [
    "def get_negative_pattern(vec_pattern_desc):\n",
    "    vec_pattern = []\n",
    "    if(len(vec_pattern_desc)==5):\n",
    "        for i in vec_pattern_desc:\n",
    "            tmp_i = i.strip()\n",
    "            if(tmp_i==''):\n",
    "                vec_pattern.append('[a-z]')\n",
    "            else:\n",
    "                vec_pattern.append('[^'+tmp_i+']')\n",
    "    else:\n",
    "        print('WARNING: The pattern was not a vector of length 5...')\n",
    "    return(''.join(vec_pattern))"
   ]
  },
  {
   "cell_type": "code",
   "execution_count": 5,
   "metadata": {},
   "outputs": [],
   "source": [
    "def get_matches(val_chars_pos,val_chars_ptrn_pos,val_chars_neg,val_chars_ptrn_neg,df_w,val_word_len=5,val_cutoff=50,is_freq_sort=True,freq_mechanism='freq_char'):\n",
    "    val_chars_pos = val_chars_pos.strip().lower()\n",
    "    val_chars_neg = val_chars_neg.strip().lower()\n",
    "    val_chars_pos_exp = get_positive_permutations(val_chars_pos)\n",
    "    val_chars_ptrn_exp_pos = get_positive_pattern(val_chars_ptrn_pos)\n",
    "    val_chars_ptrn_exp_neg = get_negative_pattern(val_chars_ptrn_neg)\n",
    "\n",
    "    if(val_chars_neg==''):\n",
    "        vec_srch_neg = [True]*df_w.shape[0]\n",
    "    else:\n",
    "        vec_srch_neg = ~np.array([True if re.search(r'[a-z]*[{chars_neg}]+[a-z]*'.format(chars_neg=val_chars_neg),x) else False for x in df_w['word']])\n",
    "    vec_srch_pos = np.array([True if re.search(r'[a-z]*{chars_pos}'.format(chars_pos=val_chars_pos_exp),x) else False for x in df_w['word']])\n",
    "    vec_srch_ptrn_pos = np.array([True if re.search(val_chars_ptrn_exp_pos,x) else False for x in df_w['word']])\n",
    "    vec_srch_ptrn_neg = np.array([True if re.search(val_chars_ptrn_exp_neg,x) else False for x in df_w['word']])\n",
    "        \n",
    "    df_1 = df_w.loc[(vec_srch_neg) & (vec_srch_pos) & (vec_srch_ptrn_pos) & (vec_srch_ptrn_neg)].copy()\n",
    "    df_2 = df_w.loc[(vec_srch_neg) & (vec_srch_pos) & (vec_srch_ptrn_pos) & (vec_srch_ptrn_neg) & (df_w['letters_uniq']==5)].copy()\n",
    "    print('All words matching criteria (includes words without 5 unique letters; {tot} total):'.format(tot=df_1.shape[0]))\n",
    "    val_str = '\\n'+'-'*35+'\\nOnly words with 5 unique letters ({tot} total):'.format(tot=df_2.shape[0])\n",
    "    if(df_1.shape[0]>val_cutoff):\n",
    "        print(', '.join(df_1.sort_values(by=[freq_mechanism])['word']))\n",
    "    else:\n",
    "        if(freq_mechanism in df_1.columns and is_freq_sort):\n",
    "            df_1.sort_values(by=[freq_mechanism],inplace=True)\n",
    "        display(df_1)\n",
    "    print(val_str)\n",
    "    if(df_2.shape[0]>val_cutoff):\n",
    "        print(', '.join(df_2.sort_values(by=[freq_mechanism])['word']))\n",
    "    else:\n",
    "        if(freq_mechanism in df_2.columns and is_freq_sort):\n",
    "            df_2.sort_values(by=[freq_mechanism],inplace=True)\n",
    "        display(df_2)"
   ]
  },
  {
   "cell_type": "code",
   "execution_count": 6,
   "metadata": {},
   "outputs": [],
   "source": [
    "def get_char_agg_value(str_val):\n",
    "    str_uniq = str(str_val)\n",
    "    num_score = 1\n",
    "    for i in str_uniq:\n",
    "        tmp_char_score = df_freq_chars.loc[df_freq_chars['char']==i]['freq_char'].iloc[0]\n",
    "        num_score = num_score*tmp_char_score\n",
    "    return(num_score)"
   ]
  },
  {
   "cell_type": "code",
   "execution_count": null,
   "metadata": {},
   "outputs": [],
   "source": []
  },
  {
   "cell_type": "markdown",
   "metadata": {},
   "source": [
    "# Latin Words"
   ]
  },
  {
   "cell_type": "code",
   "execution_count": null,
   "metadata": {},
   "outputs": [],
   "source": [
    "url_text = '''https://scipython.com/static/media/uploads/blog/wordle/latin-5-words.txt'''\n",
    "val_response = requests.get(url_text)\n",
    "val_raw_data = val_response.content\n",
    "print(type(val_raw_data))"
   ]
  },
  {
   "cell_type": "code",
   "execution_count": null,
   "metadata": {},
   "outputs": [],
   "source": [
    "val_data_00 = val_raw_data.decode('utf-8')\n",
    "vec_words_scipy = val_data_00.split('\\n')"
   ]
  },
  {
   "cell_type": "code",
   "execution_count": null,
   "metadata": {},
   "outputs": [],
   "source": [
    "#Obtained from https://personal.math.ubc.ca/~cass/frivs/latin/latin-dict-full.html\n",
    "f = open('./words_latin.txt','r')\n",
    "val_data_00 = f.readlines()\n",
    "print(len(val_data_00))\n",
    "df_words_ubc = pd.DataFrame({'definition':val_data_00})\n",
    "print(df_words_ubc.shape)"
   ]
  },
  {
   "cell_type": "code",
   "execution_count": null,
   "metadata": {},
   "outputs": [],
   "source": [
    "df_words_ubc['word'] = df_words_ubc['definition'].str.strip()\n",
    "df_words_ubc['word'] = df_words_ubc['word'].str.lower()\n",
    "df_words_ubc['is_word'] = [' : ' in str(x) for x in df_words_ubc['word']]\n",
    "df_words_ubc['word'] = [x.split(' : ')[0] for x in df_words_ubc['word']]\n",
    "df_words_ubc['src'] = 'UBC'\n",
    "df_words = pd.concat([df_words_ubc,pd.DataFrame({'word':vec_words_scipy,'is_word':[True]*len(vec_words_scipy),'src':['SciPy']*len(vec_words_scipy)})])\n",
    "df_words['word'] = df_words['word'].str.strip()\n",
    "df_words['word'] = df_words['word'].str.lower()\n",
    "print(df_words.shape)\n",
    "df_words['word_len'] = df_words['word'].apply(len)\n",
    "df_words.tail()"
   ]
  },
  {
   "cell_type": "code",
   "execution_count": null,
   "metadata": {},
   "outputs": [],
   "source": [
    "print('Before Deduplication, Total Words = '+str(df_words.shape[0]))\n",
    "df_words = df_words.loc[df_words['is_word']==True].copy()\n",
    "print(df_words.shape)\n",
    "print('After Deduplication, Total Words = '+str(df_words.shape[0]))"
   ]
  },
  {
   "cell_type": "code",
   "execution_count": null,
   "metadata": {},
   "outputs": [],
   "source": []
  },
  {
   "cell_type": "markdown",
   "metadata": {},
   "source": [
    "# English Words\n",
    "Using NLTK, take all of the English words and calculate their sum."
   ]
  },
  {
   "cell_type": "code",
   "execution_count": 7,
   "metadata": {},
   "outputs": [],
   "source": [
    "vec_words = nltk.corpus.words.words()"
   ]
  },
  {
   "cell_type": "code",
   "execution_count": 8,
   "metadata": {},
   "outputs": [
    {
     "name": "stdout",
     "output_type": "stream",
     "text": [
      "CPU times: user 210 ms, sys: 11.3 ms, total: 221 ms\n",
      "Wall time: 225 ms\n"
     ]
    }
   ],
   "source": [
    "%%time\n",
    "df_words = pd.DataFrame({'word':vec_words})\n",
    "df_words['word'] = df_words['word'].str.lower()\n",
    "df_words['word'] = df_words['word'].str.strip()\n",
    "df_words['word_len'] = df_words['word'].apply(len)"
   ]
  },
  {
   "cell_type": "code",
   "execution_count": 9,
   "metadata": {},
   "outputs": [
    {
     "name": "stdout",
     "output_type": "stream",
     "text": [
      "Before Deduplication, Total Words = 236736\n",
      "After Deduplication, Total Words = 234377\n"
     ]
    }
   ],
   "source": [
    "print('Before Deduplication, Total Words = '+str(df_words.shape[0]))\n",
    "df_words.drop_duplicates(subset=['word'],inplace=True)\n",
    "print('After Deduplication, Total Words = '+str(df_words.shape[0]))"
   ]
  },
  {
   "cell_type": "code",
   "execution_count": null,
   "metadata": {},
   "outputs": [],
   "source": []
  },
  {
   "cell_type": "markdown",
   "metadata": {},
   "source": [
    "# Cleanup"
   ]
  },
  {
   "cell_type": "code",
   "execution_count": 10,
   "metadata": {},
   "outputs": [
    {
     "name": "stdout",
     "output_type": "stream",
     "text": [
      "234377\n",
      "9972\n"
     ]
    }
   ],
   "source": [
    "#Identify the number of unique letters in each 5 letter word\n",
    "print(df_words.shape[0])\n",
    "df_words_subset_5 = df_words.loc[df_words['word_len']==5].copy()\n",
    "df_words_subset_5['letters_uniq'] = [len(set(x)) for x in df_words_subset_5['word']]\n",
    "print(df_words_subset_5.shape[0])"
   ]
  },
  {
   "cell_type": "code",
   "execution_count": null,
   "metadata": {},
   "outputs": [],
   "source": []
  },
  {
   "cell_type": "markdown",
   "metadata": {},
   "source": [
    "# Frequencies\n",
    "## Character Based"
   ]
  },
  {
   "cell_type": "code",
   "execution_count": 11,
   "metadata": {},
   "outputs": [],
   "source": [
    "df_freq_chars = pd.read_csv('./words_freq_chars.csv',sep='\\t')\n",
    "df_freq_chars.columns = ['char','freq_char']\n",
    "df_freq_chars['char'] = [str(x).lower() for x in df_freq_chars['char']]\n",
    "df_freq_chars['freq_char'] = pd.to_numeric(df_freq_chars['freq_char'])\n",
    "df_freq_chars['freq_char'] = df_freq_chars['freq_char']/100"
   ]
  },
  {
   "cell_type": "code",
   "execution_count": 12,
   "metadata": {},
   "outputs": [
    {
     "name": "stdout",
     "output_type": "stream",
     "text": [
      "CPU times: user 16 s, sys: 152 ms, total: 16.1 s\n",
      "Wall time: 16.8 s\n"
     ]
    }
   ],
   "source": [
    "%%time\n",
    "df_words_subset_5['freq_char'] = [get_char_agg_value(x) for x in df_words_subset_5['word']]"
   ]
  },
  {
   "cell_type": "code",
   "execution_count": 13,
   "metadata": {},
   "outputs": [
    {
     "data": {
      "text/plain": [
       "<AxesSubplot:>"
      ]
     },
     "execution_count": 13,
     "metadata": {},
     "output_type": "execute_result"
    },
    {
     "data": {
      "image/png": "[encoded data removed]",
      "text/plain": [
       "<Figure size 1008x288 with 1 Axes>"
      ]
     },
     "metadata": {
      "needs_background": "light"
     },
     "output_type": "display_data"
    }
   ],
   "source": [
    "df_words_subset_5['freq_char'].plot.box(figsize=(14,4),vert=False)"
   ]
  },
  {
   "cell_type": "code",
   "execution_count": 14,
   "metadata": {},
   "outputs": [
    {
     "name": "stdout",
     "output_type": "stream",
     "text": [
      "25% = 8.689141967257999e-08\n",
      "30% = 1.1685077634775999e-07\n",
      "35% = 1.5144550879785597e-07\n",
      "65% = 4.788439149312e-07\n",
      "75% = 6.794518717410802e-07\n",
      "85% = 1.0399847885794903e-06\n",
      "95% = 2.1713536436437393e-06\n"
     ]
    }
   ],
   "source": [
    "print('25% =',df_words_subset_5['freq_char'].quantile(q=0.25))\n",
    "print('30% =',df_words_subset_5['freq_char'].quantile(q=0.3))\n",
    "print('35% =',df_words_subset_5['freq_char'].quantile(q=0.35))\n",
    "print('65% =',df_words_subset_5['freq_char'].quantile(q=0.65))\n",
    "print('75% =',df_words_subset_5['freq_char'].quantile(q=0.75))\n",
    "print('85% =',df_words_subset_5['freq_char'].quantile(q=0.85))\n",
    "print('95% =',df_words_subset_5['freq_char'].quantile(q=0.95))"
   ]
  },
  {
   "cell_type": "code",
   "execution_count": 15,
   "metadata": {},
   "outputs": [
    {
     "data": {
      "text/html": [
       "<div>\n",
       "<style scoped>\n",
       "    .dataframe tbody tr th:only-of-type {\n",
       "        vertical-align: middle;\n",
       "    }\n",
       "\n",
       "    .dataframe tbody tr th {\n",
       "        vertical-align: top;\n",
       "    }\n",
       "\n",
       "    .dataframe thead th {\n",
       "        text-align: right;\n",
       "    }\n",
       "</style>\n",
       "<table border=\"1\" class=\"dataframe\">\n",
       "  <thead>\n",
       "    <tr style=\"text-align: right;\">\n",
       "      <th></th>\n",
       "      <th>word</th>\n",
       "      <th>word_len</th>\n",
       "      <th>letters_uniq</th>\n",
       "      <th>freq_char</th>\n",
       "    </tr>\n",
       "  </thead>\n",
       "  <tbody>\n",
       "    <tr>\n",
       "      <th>59122</th>\n",
       "      <td>eaten</td>\n",
       "      <td>5</td>\n",
       "      <td>4</td>\n",
       "      <td>0.000007</td>\n",
       "    </tr>\n",
       "    <tr>\n",
       "      <th>59742</th>\n",
       "      <td>eerie</td>\n",
       "      <td>5</td>\n",
       "      <td>3</td>\n",
       "      <td>0.000008</td>\n",
       "    </tr>\n",
       "    <tr>\n",
       "      <th>61495</th>\n",
       "      <td>enate</td>\n",
       "      <td>5</td>\n",
       "      <td>4</td>\n",
       "      <td>0.000007</td>\n",
       "    </tr>\n",
       "    <tr>\n",
       "      <th>123139</th>\n",
       "      <td>neese</td>\n",
       "      <td>5</td>\n",
       "      <td>3</td>\n",
       "      <td>0.000008</td>\n",
       "    </tr>\n",
       "    <tr>\n",
       "      <th>199257</th>\n",
       "      <td>teest</td>\n",
       "      <td>5</td>\n",
       "      <td>3</td>\n",
       "      <td>0.000008</td>\n",
       "    </tr>\n",
       "    <tr>\n",
       "      <th>199266</th>\n",
       "      <td>teeth</td>\n",
       "      <td>5</td>\n",
       "      <td>3</td>\n",
       "      <td>0.000007</td>\n",
       "    </tr>\n",
       "    <tr>\n",
       "      <th>199954</th>\n",
       "      <td>tenet</td>\n",
       "      <td>5</td>\n",
       "      <td>3</td>\n",
       "      <td>0.000008</td>\n",
       "    </tr>\n",
       "    <tr>\n",
       "      <th>200576</th>\n",
       "      <td>teste</td>\n",
       "      <td>5</td>\n",
       "      <td>3</td>\n",
       "      <td>0.000008</td>\n",
       "    </tr>\n",
       "    <tr>\n",
       "      <th>201360</th>\n",
       "      <td>theet</td>\n",
       "      <td>5</td>\n",
       "      <td>3</td>\n",
       "      <td>0.000007</td>\n",
       "    </tr>\n",
       "  </tbody>\n",
       "</table>\n",
       "</div>"
      ],
      "text/plain": [
       "         word  word_len  letters_uniq  freq_char\n",
       "59122   eaten         5             4   0.000007\n",
       "59742   eerie         5             3   0.000008\n",
       "61495   enate         5             4   0.000007\n",
       "123139  neese         5             3   0.000008\n",
       "199257  teest         5             3   0.000008\n",
       "199266  teeth         5             3   0.000007\n",
       "199954  tenet         5             3   0.000008\n",
       "200576  teste         5             3   0.000008\n",
       "201360  theet         5             3   0.000007"
      ]
     },
     "execution_count": 15,
     "metadata": {},
     "output_type": "execute_result"
    }
   ],
   "source": [
    "df_words_subset_5.loc[df_words_subset_5['freq_char']>0.000007]"
   ]
  },
  {
   "cell_type": "code",
   "execution_count": null,
   "metadata": {},
   "outputs": [],
   "source": []
  },
  {
   "cell_type": "markdown",
   "metadata": {},
   "source": [
    "## Word Based"
   ]
  },
  {
   "cell_type": "code",
   "execution_count": 16,
   "metadata": {},
   "outputs": [
    {
     "name": "stdout",
     "output_type": "stream",
     "text": [
      "CPU times: user 356 ms, sys: 18.9 ms, total: 375 ms\n",
      "Wall time: 386 ms\n"
     ]
    }
   ],
   "source": [
    "%%time\n",
    "df_words_subset_5['freq_word'] = [wordfreq.word_frequency(x,'en') for x in df_words_subset_5['word']]"
   ]
  },
  {
   "cell_type": "code",
   "execution_count": 17,
   "metadata": {},
   "outputs": [
    {
     "data": {
      "text/plain": [
       "<AxesSubplot:>"
      ]
     },
     "execution_count": 17,
     "metadata": {},
     "output_type": "execute_result"
    },
    {
     "data": {
      "image/png": "[encoded data removed]",
      "text/plain": [
       "<Figure size 1008x288 with 1 Axes>"
      ]
     },
     "metadata": {
      "needs_background": "light"
     },
     "output_type": "display_data"
    }
   ],
   "source": [
    "df_words_subset_5['freq_word'].plot.box(figsize=(14,4),vert=False)"
   ]
  },
  {
   "cell_type": "code",
   "execution_count": 18,
   "metadata": {},
   "outputs": [
    {
     "name": "stdout",
     "output_type": "stream",
     "text": [
      "25% = 0.0\n",
      "30% = 0.0\n",
      "35% = 1.17e-08\n",
      "65% = 2.14e-07\n",
      "75% = 7.08e-07\n",
      "85% = 3.02e-06\n",
      "95% = 2.51e-05\n"
     ]
    }
   ],
   "source": [
    "print('25% =',df_words_subset_5['freq_word'].quantile(q=0.25))\n",
    "print('30% =',df_words_subset_5['freq_word'].quantile(q=0.3))\n",
    "print('35% =',df_words_subset_5['freq_word'].quantile(q=0.35))\n",
    "print('65% =',df_words_subset_5['freq_word'].quantile(q=0.65))\n",
    "print('75% =',df_words_subset_5['freq_word'].quantile(q=0.75))\n",
    "print('85% =',df_words_subset_5['freq_word'].quantile(q=0.85))\n",
    "print('95% =',df_words_subset_5['freq_word'].quantile(q=0.95))"
   ]
  },
  {
   "cell_type": "code",
   "execution_count": 19,
   "metadata": {},
   "outputs": [
    {
     "data": {
      "text/plain": [
       "<AxesSubplot:ylabel='Density'>"
      ]
     },
     "execution_count": 19,
     "metadata": {},
     "output_type": "execute_result"
    },
    {
     "data": {
      "image/png": "[encoded data removed]",
      "text/plain": [
       "<Figure size 1008x720 with 1 Axes>"
      ]
     },
     "metadata": {
      "needs_background": "light"
     },
     "output_type": "display_data"
    }
   ],
   "source": [
    "df_words_subset_5['freq_word'].plot.kde(figsize=(14,10),xlim=(0,df_words_subset_5['freq_word'].max()))"
   ]
  },
  {
   "cell_type": "code",
   "execution_count": 20,
   "metadata": {},
   "outputs": [
    {
     "data": {
      "text/html": [
       "<div>\n",
       "<style scoped>\n",
       "    .dataframe tbody tr th:only-of-type {\n",
       "        vertical-align: middle;\n",
       "    }\n",
       "\n",
       "    .dataframe tbody tr th {\n",
       "        vertical-align: top;\n",
       "    }\n",
       "\n",
       "    .dataframe thead th {\n",
       "        text-align: right;\n",
       "    }\n",
       "</style>\n",
       "<table border=\"1\" class=\"dataframe\">\n",
       "  <thead>\n",
       "    <tr style=\"text-align: right;\">\n",
       "      <th></th>\n",
       "      <th>word</th>\n",
       "      <th>word_len</th>\n",
       "      <th>letters_uniq</th>\n",
       "      <th>freq_char</th>\n",
       "      <th>freq_word</th>\n",
       "    </tr>\n",
       "  </thead>\n",
       "  <tbody>\n",
       "    <tr>\n",
       "      <th>407</th>\n",
       "      <td>about</td>\n",
       "      <td>5</td>\n",
       "      <td>5</td>\n",
       "      <td>2.435215e-07</td>\n",
       "      <td>0.00251</td>\n",
       "    </tr>\n",
       "    <tr>\n",
       "      <th>201385</th>\n",
       "      <td>their</td>\n",
       "      <td>5</td>\n",
       "      <td>5</td>\n",
       "      <td>2.849584e-06</td>\n",
       "      <td>0.00214</td>\n",
       "    </tr>\n",
       "    <tr>\n",
       "      <th>201678</th>\n",
       "      <td>there</td>\n",
       "      <td>5</td>\n",
       "      <td>4</td>\n",
       "      <td>4.685636e-06</td>\n",
       "      <td>0.00204</td>\n",
       "    </tr>\n",
       "  </tbody>\n",
       "</table>\n",
       "</div>"
      ],
      "text/plain": [
       "         word  word_len  letters_uniq     freq_char  freq_word\n",
       "407     about         5             5  2.435215e-07    0.00251\n",
       "201385  their         5             5  2.849584e-06    0.00214\n",
       "201678  there         5             4  4.685636e-06    0.00204"
      ]
     },
     "execution_count": 20,
     "metadata": {},
     "output_type": "execute_result"
    }
   ],
   "source": [
    "df_words_subset_5.loc[df_words_subset_5['freq_word']>0.002]"
   ]
  },
  {
   "cell_type": "code",
   "execution_count": null,
   "metadata": {},
   "outputs": [],
   "source": []
  },
  {
   "cell_type": "markdown",
   "metadata": {},
   "source": [
    "## Combining Word & Character"
   ]
  },
  {
   "cell_type": "code",
   "execution_count": 21,
   "metadata": {},
   "outputs": [],
   "source": [
    "df_words_subset_5['freq_comb'] = df_words_subset_5['freq_word']*df_words_subset_5['freq_char']"
   ]
  },
  {
   "cell_type": "code",
   "execution_count": 22,
   "metadata": {},
   "outputs": [
    {
     "data": {
      "text/plain": [
       "<AxesSubplot:>"
      ]
     },
     "execution_count": 22,
     "metadata": {},
     "output_type": "execute_result"
    },
    {
     "data": {
      "image/png": "[encoded data removed]",
      "text/plain": [
       "<Figure size 1008x288 with 1 Axes>"
      ]
     },
     "metadata": {
      "needs_background": "light"
     },
     "output_type": "display_data"
    }
   ],
   "source": [
    "df_words_subset_5['freq_comb'].plot.box(figsize=(14,4),vert=False)"
   ]
  },
  {
   "cell_type": "code",
   "execution_count": 23,
   "metadata": {},
   "outputs": [
    {
     "name": "stdout",
     "output_type": "stream",
     "text": [
      "25% = 0.0\n",
      "30% = 0.0\n",
      "35% = 2.650819566594525e-16\n",
      "65% = 5.757057753438088e-14\n",
      "75% = 2.0121861811025686e-13\n",
      "85% = 9.726271044798345e-13\n",
      "95% = 1.1022759884750634e-11\n"
     ]
    }
   ],
   "source": [
    "print('25% =',df_words_subset_5['freq_comb'].quantile(q=0.25))\n",
    "print('30% =',df_words_subset_5['freq_comb'].quantile(q=0.3))\n",
    "print('35% =',df_words_subset_5['freq_comb'].quantile(q=0.35))\n",
    "print('65% =',df_words_subset_5['freq_comb'].quantile(q=0.65))\n",
    "print('75% =',df_words_subset_5['freq_comb'].quantile(q=0.75))\n",
    "print('85% =',df_words_subset_5['freq_comb'].quantile(q=0.85))\n",
    "print('95% =',df_words_subset_5['freq_comb'].quantile(q=0.95))"
   ]
  },
  {
   "cell_type": "code",
   "execution_count": null,
   "metadata": {},
   "outputs": [],
   "source": []
  },
  {
   "cell_type": "markdown",
   "metadata": {},
   "source": [
    "# Strategy\n",
    "## Step 1\n",
    "A good starting strategy is to pick any word that has 5 unique characters, this way you can identify letters that should be in the word or not in the word quickly and with maximum options.  Repeating characters does not provide any benefit to identify the letters that are correct, unless you randomly guess repeating characters in the exact index location for the word - which is highly unlikely at the beginning.\n",
    "\n",
    "Within Step 1 there are two substrategies to be considered: (1) show any random word from the collection of words and (2) show only words that have a relatively high frequncy of occurrence.  To state the second substrategy in different terms: eliminate words that are extremely uncommon as they would be less likely to be chosen given the ability for players to know them is lower given their relative frequency."
   ]
  },
  {
   "cell_type": "code",
   "execution_count": null,
   "metadata": {},
   "outputs": [],
   "source": [
    "df_words_subset_5.loc[df_words_subset_5['letters_uniq']==5].sample()"
   ]
  },
  {
   "cell_type": "code",
   "execution_count": null,
   "metadata": {},
   "outputs": [],
   "source": [
    "df_words_subset_5.loc[(df_words_subset_5['letters_uniq']==5) & (df_words_subset_5['freq_word']>=df_words_subset_5['freq_word'].quantile(q=0.35))].sample()"
   ]
  },
  {
   "cell_type": "code",
   "execution_count": null,
   "metadata": {},
   "outputs": [],
   "source": [
    "df_words_subset_5.loc[(df_words_subset_5['letters_uniq']==5) & (df_words_subset_5['freq_char']>=df_words_subset_5['freq_char'].quantile(q=0.35))].sample()"
   ]
  },
  {
   "cell_type": "code",
   "execution_count": null,
   "metadata": {},
   "outputs": [],
   "source": [
    "df_words_subset_5.loc[(df_words_subset_5['letters_uniq']==5) & (df_words_subset_5['freq_comb']>=df_words_subset_5['freq_comb'].quantile(q=0.35))].sample()"
   ]
  },
  {
   "cell_type": "code",
   "execution_count": null,
   "metadata": {},
   "outputs": [],
   "source": []
  },
  {
   "cell_type": "markdown",
   "metadata": {},
   "source": [
    "## Step 2:\n",
    "Using the information obtained after the first submission and for all subsequent submissions, provide the letters that are identified to:\n",
    "- Exist in the word, but the position is unclear (e.g., if you know the letter 'a' is in the word); this could be anywhere in the word as well as letters in specific locations.\n",
    "- Exists in the word and you know the specific index location where it exists (e.g., the second letter is a 'h').\n",
    "- Does not exist in the word (e.g., the letter 'k' is not in the word).\n",
    "\n",
    "In order to make these patterns work, the `val_pos` and `val_neg` are strings of characters.  For example, if the word is known to have the letters 'a', 'b', and 'h' then `val_pos = 'abh'` in any order.  The same would apply for `val_neg`; if the word was known to not have the letters 'j', 'k', or 'l' then `val_neg = 'jkl'`.  The `val_ptrn_pos` should always be a vector that has a length of five (5) elements of characters sequences; a blank (e.g., `''`) is considered a wild card; if a letter is known to have an index, replace the `''` with the letter.  For example, if the 'h' character is known to exist in the third position, then `val_ptrn_pos = ['','','h','','']`.  The `val_ptrn_neg` has been implemented in a similar fashion as a vector that has a length of five (5) elements of character sequences.  For example, if the word is known not to have 'h' or 'a' at the third index position, then `val_ptrn_neg = ['','','ha','','']`.\n",
    "\n",
    "The function for finding the recommended words has an option to sort the results based on the calculated frequency from the library `wordfreq`."
   ]
  },
  {
   "cell_type": "code",
   "execution_count": null,
   "metadata": {},
   "outputs": [],
   "source": [
    "val_pos = ''\n",
    "val_neg = ''\n",
    "val_ptrn_pos = ['','','','','']\n",
    "val_ptrn_neg = ['','','','','']\n",
    "\n",
    "get_matches(val_chars_pos=val_pos,\n",
    "            val_chars_ptrn_pos=val_ptrn_pos,\n",
    "            val_chars_neg=val_neg,\n",
    "            val_chars_ptrn_neg=val_ptrn_neg,\n",
    "            df_w=df_words_subset_5,\n",
    "            freq_mechanism='freq_comb')"
   ]
  },
  {
   "cell_type": "code",
   "execution_count": null,
   "metadata": {},
   "outputs": [],
   "source": []
  }
 ],
 "metadata": {
  "kernelspec": {
   "display_name": "Python 3 (ipykernel)",
   "language": "python",
   "name": "python3"
  },
  "language_info": {
   "codemirror_mode": {
    "name": "ipython",
    "version": 3
   },
   "file_extension": ".py",
   "mimetype": "text/x-python",
   "name": "python",
   "nbconvert_exporter": "python",
   "pygments_lexer": "ipython3",
   "version": "3.10.2"
  }
 },
 "nbformat": 4,
 "nbformat_minor": 4
}
