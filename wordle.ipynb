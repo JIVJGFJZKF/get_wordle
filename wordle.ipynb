{
 "cells": [
  {
   "cell_type": "code",
   "execution_count": null,
   "metadata": {},
   "outputs": [],
   "source": [
    "import pandas as pd\n",
    "import random, nltk, re, requests\n",
    "import numpy as np\n",
    "from itertools import permutations\n",
    "from IPython.display import display"
   ]
  },
  {
   "cell_type": "code",
   "execution_count": null,
   "metadata": {},
   "outputs": [],
   "source": []
  },
  {
   "cell_type": "markdown",
   "metadata": {},
   "source": [
    "# Search Functions"
   ]
  },
  {
   "cell_type": "code",
   "execution_count": null,
   "metadata": {},
   "outputs": [],
   "source": [
    "def get_positive_permutations(val_str_pos):\n",
    "    vec_ors = []\n",
    "    for permutation_chars in list(permutations(val_str_pos)):\n",
    "        vec_strs = ['['+x+']+[a-z]*' for x in list(permutation_chars)]\n",
    "        val_strs = ''.join(vec_strs)\n",
    "        vec_ors.append(val_strs)\n",
    "    return('|'.join(vec_ors))"
   ]
  },
  {
   "cell_type": "code",
   "execution_count": null,
   "metadata": {},
   "outputs": [],
   "source": [
    "def get_positive_pattern(val_str_pos):\n",
    "    vec_pattern = []\n",
    "    if(len(val_str_pos)!=5):\n",
    "        print('WARNING: The pattern did not contain 5 characters...')\n",
    "        val_str_pos = '*'*5\n",
    "    for i in val_str_pos:\n",
    "        if(i=='*'):\n",
    "            vec_pattern.append('[a-z]')\n",
    "        else:\n",
    "            vec_pattern.append(i)\n",
    "    return(''.join(vec_pattern))"
   ]
  },
  {
   "cell_type": "code",
   "execution_count": null,
   "metadata": {},
   "outputs": [],
   "source": [
    "def get_matches(val_chars_pos,val_chars_ptrn,val_chars_neg,df_w,val_word_len=5,val_cutoff=50):\n",
    "    val_chars_pos = val_chars_pos.strip().lower()\n",
    "    val_chars_ptrn = val_chars_ptrn.strip().lower()\n",
    "    val_chars_neg = val_chars_neg.strip().lower()\n",
    "    val_chars_pos_exp = get_positive_permutations(val_chars_pos)\n",
    "    val_chars_ptrn_exp = get_positive_pattern(val_chars_ptrn)\n",
    "\n",
    "    if(val_chars_neg==''):\n",
    "        vec_srch_neg = [True]*df_w.shape[0]\n",
    "    else:\n",
    "        vec_srch_neg = ~np.array([True if re.search(r'[a-z]*[{chars_neg}]+[a-z]*'.format(chars_neg=val_chars_neg),x) else False for x in df_w['word']])\n",
    "    vec_srch_pos = np.array([True if re.search(r'[a-z]*{chars_pos}'.format(chars_pos=val_chars_pos_exp),x) else False for x in df_w['word']])\n",
    "    vec_srch_ptrn = np.array([True if re.search(val_chars_ptrn_exp,x) else False for x in df_w['word']])\n",
    "    df_1 = df_w.loc[(vec_srch_neg) & (vec_srch_pos) & (vec_srch_ptrn)].copy()\n",
    "    df_2 = df_w.loc[(vec_srch_neg) & (vec_srch_pos) & (vec_srch_ptrn) & (df_w['letters_uniq']==5)].copy()\n",
    "    print('All words matching criteria (includes words without 5 unique letters; {tot} total):'.format(tot=df_1.shape[0]))\n",
    "    val_str = '\\n'+'-'*35+'\\nOnly words with 5 unique letters ({tot} total):'.format(tot=df_2.shape[0])\n",
    "    if(df_1.shape[0]>val_cutoff):\n",
    "        print(', '.join(df_1['word']))\n",
    "    else:\n",
    "        display(df_1)\n",
    "    print(val_str)\n",
    "    if(df_2.shape[0]>val_cutoff):\n",
    "        print(', '.join(df_2['word']))\n",
    "    else:\n",
    "        display(df_2)"
   ]
  },
  {
   "cell_type": "code",
   "execution_count": null,
   "metadata": {},
   "outputs": [],
   "source": []
  },
  {
   "cell_type": "markdown",
   "metadata": {},
   "source": [
    "# Latin Words"
   ]
  },
  {
   "cell_type": "code",
   "execution_count": null,
   "metadata": {},
   "outputs": [],
   "source": [
    "url_text = '''https://scipython.com/static/media/uploads/blog/wordle/latin-5-words.txt'''\n",
    "val_response = requests.get(url_text)\n",
    "val_raw_data = val_response.content\n",
    "print(type(val_raw_data))"
   ]
  },
  {
   "cell_type": "code",
   "execution_count": null,
   "metadata": {},
   "outputs": [],
   "source": [
    "val_data_00 = val_raw_data.decode('utf-8')\n",
    "vec_words_scipy = val_data_00.split('\\n')"
   ]
  },
  {
   "cell_type": "code",
   "execution_count": null,
   "metadata": {},
   "outputs": [],
   "source": [
    "#Obtained from https://personal.math.ubc.ca/~cass/frivs/latin/latin-dict-full.html\n",
    "f = open('./words_latin.txt','r')\n",
    "val_data_00 = f.readlines()\n",
    "print(len(val_data_00))\n",
    "df_words_ubc = pd.DataFrame({'definition':val_data_00})\n",
    "print(df_words_ubc.shape)"
   ]
  },
  {
   "cell_type": "code",
   "execution_count": null,
   "metadata": {},
   "outputs": [],
   "source": [
    "df_words_ubc['word'] = df_words_ubc['definition'].str.strip()\n",
    "df_words_ubc['word'] = df_words_ubc['word'].str.lower()\n",
    "df_words_ubc['is_word'] = [' : ' in str(x) for x in df_words_ubc['word']]\n",
    "df_words_ubc['word'] = [x.split(' : ')[0] for x in df_words_ubc['word']]\n",
    "df_words_ubc['src'] = 'UBC'\n",
    "df_words = pd.concat([df_words_ubc,pd.DataFrame({'word':vec_words_scipy,'is_word':[True]*len(vec_words_scipy),'src':['SciPy']*len(vec_words_scipy)})])\n",
    "df_words['word'] = df_words['word'].str.strip()\n",
    "df_words['word'] = df_words['word'].str.lower()\n",
    "print(df_words.shape)\n",
    "df_words['word_len'] = df_words['word'].apply(len)\n",
    "df_words.tail()"
   ]
  },
  {
   "cell_type": "code",
   "execution_count": null,
   "metadata": {},
   "outputs": [],
   "source": [
    "print('Before Deduplication, Total Words = '+str(df_words.shape[0]))\n",
    "df_words = df_words.loc[df_words['is_word']==True].copy()\n",
    "print(df_words.shape)\n",
    "print('After Deduplication, Total Words = '+str(df_words.shape[0]))"
   ]
  },
  {
   "cell_type": "code",
   "execution_count": null,
   "metadata": {},
   "outputs": [],
   "source": []
  },
  {
   "cell_type": "markdown",
   "metadata": {},
   "source": [
    "# English Words\n",
    "Using NLTK, take all of the English words and calculate their sum."
   ]
  },
  {
   "cell_type": "code",
   "execution_count": null,
   "metadata": {},
   "outputs": [],
   "source": [
    "vec_words = nltk.corpus.words.words()"
   ]
  },
  {
   "cell_type": "code",
   "execution_count": null,
   "metadata": {},
   "outputs": [],
   "source": [
    "%%time\n",
    "df_words = pd.DataFrame({'word':vec_words})\n",
    "df_words['word'] = df_words['word'].str.lower()\n",
    "df_words['word'] = df_words['word'].str.strip()\n",
    "df_words['word_len'] = df_words['word'].apply(len)"
   ]
  },
  {
   "cell_type": "code",
   "execution_count": null,
   "metadata": {},
   "outputs": [],
   "source": [
    "print('Before Deduplication, Total Words = '+str(df_words.shape[0]))\n",
    "df_words.drop_duplicates(subset=['word'],inplace=True)\n",
    "print('After Deduplication, Total Words = '+str(df_words.shape[0]))"
   ]
  },
  {
   "cell_type": "code",
   "execution_count": null,
   "metadata": {},
   "outputs": [],
   "source": []
  },
  {
   "cell_type": "markdown",
   "metadata": {},
   "source": [
    "# Cleanup"
   ]
  },
  {
   "cell_type": "code",
   "execution_count": null,
   "metadata": {},
   "outputs": [],
   "source": [
    "#Identify the number of unique letters in each 5 letter word\n",
    "print(df_words.shape[0])\n",
    "df_words_subset_5 = df_words.loc[df_words['word_len']==5].copy()\n",
    "df_words_subset_5['letters_uniq'] = [len(set(x)) for x in df_words_subset_5['word']]\n",
    "print(df_words_subset_5.shape[0])"
   ]
  },
  {
   "cell_type": "code",
   "execution_count": null,
   "metadata": {},
   "outputs": [],
   "source": []
  },
  {
   "cell_type": "markdown",
   "metadata": {},
   "source": [
    "# Strategy\n",
    "## Step 1\n",
    "A good starting strategy is to pick any word that has 5 unique characters, this way you can identify letters that should be in the word or not in the word quickly and with maximum options.  Repeating characters does not provide any benefit to identify the letters that are correct, unless you randomly guess repeating characters in the exact index location for the word - which is highly unlikely at the beginning."
   ]
  },
  {
   "cell_type": "code",
   "execution_count": null,
   "metadata": {},
   "outputs": [],
   "source": [
    "df_words_subset_5.loc[df_words_subset_5['letters_uniq']==5].sample()"
   ]
  },
  {
   "cell_type": "code",
   "execution_count": null,
   "metadata": {},
   "outputs": [],
   "source": []
  },
  {
   "cell_type": "markdown",
   "metadata": {},
   "source": [
    "## Step 2:\n",
    "Using the information obtained after the first submission and for all subsequent submissions, provide the letters that are identified to:\n",
    "- Exist in the word, but the position is unclear (e.g., if you know the letter 'a' is in the word); this could be anywhere in the word as well as letters in specific locations.\n",
    "- Exists in the word and you know the specific index location where it exists (e.g., the second letter is a 'h').\n",
    "- Does not exist in the word (e.g., the letter 'k' is not in the word).\n",
    "\n",
    "In order to make these patterns work, the `val_pos` and `val_neg` are strings of characters.  For example, if the word is known to have the letters 'a', 'b', and 'h' then `val_pos = 'abh'` in any order.  The same would apply for `val_neg`; if the word was known to not have the letters 'j', 'k', or 'l' then `val_neg = 'jkl'`.  The `val_ptrn_pos` should always be five (5) characters long; the wild card character is `*`; if a letter is known to have an index, replace the `*` with the letter.  For example, if the 'h' character is known to exist in the third position, then `val_ptn_pos = '**h**'`.  The `val_ptrn_neg` is still to be implemented."
   ]
  },
  {
   "cell_type": "code",
   "execution_count": null,
   "metadata": {},
   "outputs": [],
   "source": [
    "val_pos = ''\n",
    "val_neg = ''\n",
    "val_ptrn_pos = '*****'\n",
    "val_ptrn_neg = '*****'\n",
    "\n",
    "get_matches(val_chars_pos=val_pos,\n",
    "            val_chars_ptrn=val_ptrn_pos,\n",
    "            val_chars_neg=val_neg,\n",
    "            df_w=df_words_subset_5)"
   ]
  },
  {
   "cell_type": "code",
   "execution_count": null,
   "metadata": {},
   "outputs": [],
   "source": []
  }
 ],
 "metadata": {
  "kernelspec": {
   "display_name": "Python 3 (ipykernel)",
   "language": "python",
   "name": "python3"
  },
  "language_info": {
   "codemirror_mode": {
    "name": "ipython",
    "version": 3
   },
   "file_extension": ".py",
   "mimetype": "text/x-python",
   "name": "python",
   "nbconvert_exporter": "python",
   "pygments_lexer": "ipython3",
   "version": "3.10.2"
  }
 },
 "nbformat": 4,
 "nbformat_minor": 4
}
